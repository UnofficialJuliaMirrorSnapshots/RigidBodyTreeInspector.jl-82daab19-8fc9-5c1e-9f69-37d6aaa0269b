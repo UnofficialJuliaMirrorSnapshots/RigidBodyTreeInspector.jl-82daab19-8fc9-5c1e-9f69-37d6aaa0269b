{
 "cells": [
  {
   "cell_type": "code",
   "execution_count": null,
   "metadata": {},
   "outputs": [],
   "source": [
    "using RigidBodyDynamics\n",
    "using RigidBodyTreeInspector\n",
    "using DrakeVisualizer"
   ]
  },
  {
   "cell_type": "code",
   "execution_count": null,
   "metadata": {
    "scrolled": false
   },
   "outputs": [],
   "source": [
    "# Let's construct a mechanism by loading a URDF. We can get \n",
    "# the URDF for the NASA Valkyrie robot using the ValkyrieRobot.jl \n",
    "# package:\n",
    "using ValkyrieRobot\n",
    "urdf = ValkyrieRobot.urdfpath()\n",
    "mechanism = parse_urdf(Float64, urdf);"
   ]
  },
  {
   "cell_type": "code",
   "execution_count": null,
   "metadata": {},
   "outputs": [],
   "source": [
    "# Launch the viewer\n",
    "DrakeVisualizer.any_open_windows() || DrakeVisualizer.new_window()"
   ]
  },
  {
   "cell_type": "code",
   "execution_count": null,
   "metadata": {
    "scrolled": false
   },
   "outputs": [],
   "source": [
    "# We can visualize the kinematic structure of the robot just by inspecting it:\n",
    "inspect(mechanism)"
   ]
  },
  {
   "cell_type": "code",
   "execution_count": null,
   "metadata": {},
   "outputs": [],
   "source": [
    "# And we can also show the inertias of each link, visualized as\n",
    "# ellipsoids of equivalent mass and inertia\n",
    "inspect(mechanism; show_inertias=true)"
   ]
  },
  {
   "cell_type": "code",
   "execution_count": null,
   "metadata": {},
   "outputs": [],
   "source": [
    "# We can also parse the visual elements from the URDF and use them to \n",
    "# show the robot instead. The URDF we're using uses the package:// \n",
    "# prefix when looking for mesh files, so we'll have to tell it what \n",
    "# directories to search in:\n",
    "# package_path = [\"$DRAKE_DISTRO/drake/examples\"]\n",
    "vis = Visualizer()[:robot1]\n",
    "setgeometry!(vis, mechanism, URDFVisuals(urdf, package_path=[ValkyrieRobot.packagepath()]))\n",
    "inspect(mechanism, vis)"
   ]
  },
  {
   "cell_type": "code",
   "execution_count": null,
   "metadata": {},
   "outputs": [],
   "source": []
  }
 ],
 "metadata": {
  "kernelspec": {
   "display_name": "Julia 0.7.0",
   "language": "julia",
   "name": "julia-0.7"
  },
  "language_info": {
   "file_extension": ".jl",
   "mimetype": "application/julia",
   "name": "julia",
   "version": "0.7.0"
  },
  "widgets": {
   "state": {
    "00d9880a-3393-4dc2-9466-fb916d523b21": {
     "views": [
      {
       "cell_index": 4
      }
     ]
    },
    "016363e2-8304-4230-9c1c-6dbc9942e908": {
     "views": [
      {
       "cell_index": 5
      }
     ]
    },
    "05543e35-37e5-4765-a242-d47e3b739c82": {
     "views": [
      {
       "cell_index": 4
      }
     ]
    },
    "077ca085-fdab-4b97-b7b0-96aa59198b8c": {
     "views": [
      {
       "cell_index": 4
      }
     ]
    },
    "0936b903-a2e3-427d-ac6f-0119c1e57934": {
     "views": [
      {
       "cell_index": 4
      }
     ]
    },
    "0946a4d4-6f29-446d-947f-57c1a28e84fe": {
     "views": [
      {
       "cell_index": 5
      }
     ]
    },
    "0bc195df-5a06-4ac7-8859-163c6814296a": {
     "views": [
      {
       "cell_index": 4
      }
     ]
    },
    "0ced09b6-d403-43cf-8b99-9cbbb30f6e8d": {
     "views": [
      {
       "cell_index": 3
      }
     ]
    },
    "0cfe8c11-8439-4919-9214-cdb873d8b7ff": {
     "views": [
      {
       "cell_index": 4
      }
     ]
    },
    "0dfdb9ba-d36e-4733-9076-25566fd0951b": {
     "views": [
      {
       "cell_index": 4
      }
     ]
    },
    "0f37accd-4ae0-4e34-a6b8-a9257617a57c": {
     "views": [
      {
       "cell_index": 6
      }
     ]
    },
    "0f7685f0-59ad-4a05-a6a7-d38585586b03": {
     "views": [
      {
       "cell_index": 5
      }
     ]
    },
    "104f6711-f6eb-48ce-b52e-338a02e80f3e": {
     "views": [
      {
       "cell_index": 5
      }
     ]
    },
    "1249649d-621e-4b14-83cc-1130f0449bcc": {
     "views": [
      {
       "cell_index": 4
      }
     ]
    },
    "16e39d13-b83e-4a22-8be7-761edcc1f96f": {
     "views": [
      {
       "cell_index": 3
      }
     ]
    },
    "1999627b-801c-426d-9dd4-218a31df3cef": {
     "views": [
      {
       "cell_index": 3
      }
     ]
    },
    "1ab2c241-2907-4d6d-a9d0-0d953e75af37": {
     "views": [
      {
       "cell_index": 4
      }
     ]
    },
    "1ce013ea-4e6f-4ced-bc27-7fc33a2b3e4f": {
     "views": [
      {
       "cell_index": 3
      }
     ]
    },
    "1f9453ff-bee7-4df5-ac49-70c40899136e": {
     "views": [
      {
       "cell_index": 5
      }
     ]
    },
    "1fa742d8-0157-44ef-babb-5b743012c9c7": {
     "views": [
      {
       "cell_index": 5
      }
     ]
    },
    "20926854-af06-47ab-b7ea-6796d17b21f4": {
     "views": [
      {
       "cell_index": 4
      }
     ]
    },
    "20d83c80-7bca-4712-a4fe-86b873d4eb56": {
     "views": [
      {
       "cell_index": 5
      }
     ]
    },
    "20e7a865-8177-4c25-878e-aebbfbfcfaac": {
     "views": [
      {
       "cell_index": 3
      }
     ]
    },
    "2209fad9-99b6-4e04-a06b-2f27b552c77b": {
     "views": [
      {
       "cell_index": 3
      }
     ]
    },
    "24f7afd6-00ce-4f6e-bd1a-60dc98feb8a8": {
     "views": [
      {
       "cell_index": 3
      }
     ]
    },
    "2634ae7e-c679-4270-b5ec-6db921273620": {
     "views": [
      {
       "cell_index": 4
      }
     ]
    },
    "27aa4da7-184e-49ac-a720-218d4793317e": {
     "views": [
      {
       "cell_index": 4
      }
     ]
    },
    "28698bdc-4c4e-48da-a628-7af8f7efef3a": {
     "views": [
      {
       "cell_index": 5
      }
     ]
    },
    "29157d87-9c80-48cd-8eec-278797c01527": {
     "views": [
      {
       "cell_index": 3
      }
     ]
    },
    "299ab847-34c3-491d-805a-ee4d4a986241": {
     "views": [
      {
       "cell_index": 4
      }
     ]
    },
    "2a98fa08-6e87-468b-81d8-82c3670eace5": {
     "views": [
      {
       "cell_index": 6
      }
     ]
    },
    "2b462673-67a4-4504-85d8-0642535eb5ee": {
     "views": [
      {
       "cell_index": 5
      }
     ]
    },
    "2bc32ee2-da1f-458b-aeca-76f5cc28d3a9": {
     "views": [
      {
       "cell_index": 3
      }
     ]
    },
    "2c9a0026-2691-41ad-a290-f7d74ca213c1": {
     "views": [
      {
       "cell_index": 6
      }
     ]
    },
    "2cbea5c5-769b-4a2c-8dec-a031f212f6a1": {
     "views": [
      {
       "cell_index": 5
      }
     ]
    },
    "2cbfd7b1-08fb-45d4-8f35-81c002518a4b": {
     "views": [
      {
       "cell_index": 5
      }
     ]
    },
    "2f0b1334-6d85-4aca-8f86-cdf90d05cf60": {
     "views": [
      {
       "cell_index": 5
      }
     ]
    },
    "3001dd39-63b9-439d-84b5-87c7784deaa8": {
     "views": [
      {
       "cell_index": 4
      }
     ]
    },
    "3044a69c-aa56-47a8-91bf-9cb4a077b165": {
     "views": [
      {
       "cell_index": 4
      }
     ]
    },
    "31935374-cce9-4926-9a36-425048b4929b": {
     "views": [
      {
       "cell_index": 4
      }
     ]
    },
    "3406e97f-8dca-4b1f-92e2-8c65912b1ef2": {
     "views": [
      {
       "cell_index": 3
      }
     ]
    },
    "38688ad9-068b-445a-89ee-27dba68779c4": {
     "views": [
      {
       "cell_index": 3
      }
     ]
    },
    "3a073435-248c-4a20-8be0-96309082cedd": {
     "views": [
      {
       "cell_index": 4
      }
     ]
    },
    "3a62b9ed-7e62-4942-b270-bf80d585d4df": {
     "views": [
      {
       "cell_index": 5
      }
     ]
    },
    "3badaddd-7531-4259-9a90-3d04b98201e7": {
     "views": [
      {
       "cell_index": 4
      }
     ]
    },
    "3c257219-8329-4845-90a1-bb3fd2ca1dcf": {
     "views": [
      {
       "cell_index": 3
      }
     ]
    },
    "3df787b7-b9ef-4d78-aa7f-fd89dc31306b": {
     "views": [
      {
       "cell_index": 4
      }
     ]
    },
    "403ee887-f569-43ef-9bdb-8d984685e42a": {
     "views": [
      {
       "cell_index": 4
      }
     ]
    },
    "4081a52a-1d23-4b63-b171-ea5dd467f6e9": {
     "views": [
      {
       "cell_index": 6
      }
     ]
    },
    "429d0414-ca67-4687-aae9-29dc15930e9c": {
     "views": [
      {
       "cell_index": 3
      }
     ]
    },
    "42d47915-5015-40f5-b8df-6d62e9b64881": {
     "views": [
      {
       "cell_index": 5
      }
     ]
    },
    "44626717-2250-46be-b3cf-7dc006a8e335": {
     "views": [
      {
       "cell_index": 4
      }
     ]
    },
    "44b7910e-b165-496d-bdaa-3542839d6a0b": {
     "views": [
      {
       "cell_index": 4
      }
     ]
    },
    "467b8948-c405-482f-a17e-bb28c14772d1": {
     "views": [
      {
       "cell_index": 3
      }
     ]
    },
    "49d534e2-6fef-4d6a-9e36-2f890e304a72": {
     "views": [
      {
       "cell_index": 5
      }
     ]
    },
    "49f17033-54cf-4508-a50f-4f3b5c032b4b": {
     "views": [
      {
       "cell_index": 5
      }
     ]
    },
    "4b927531-a3e5-4325-80c3-830786c560ee": {
     "views": [
      {
       "cell_index": 4
      }
     ]
    },
    "4d653311-66e5-4a84-8a96-30751add7679": {
     "views": [
      {
       "cell_index": 4
      }
     ]
    },
    "4f8fb8d6-6421-434f-9ed6-aaa0bba904cd": {
     "views": [
      {
       "cell_index": 3
      }
     ]
    },
    "527cdc9f-3cfd-444f-872e-d1c29227e9b3": {
     "views": [
      {
       "cell_index": 4
      }
     ]
    },
    "54964f12-3422-437c-af7f-723aac2fe5e8": {
     "views": [
      {
       "cell_index": 6
      }
     ]
    },
    "55d07666-7f93-4dcf-a387-1b3dee54868c": {
     "views": [
      {
       "cell_index": 5
      }
     ]
    },
    "563a33c7-366c-4ee1-926b-c29baceb0b47": {
     "views": [
      {
       "cell_index": 4
      }
     ]
    },
    "56fe971a-832a-4b36-846a-762ffb3e87c4": {
     "views": [
      {
       "cell_index": 5
      }
     ]
    },
    "57028913-b181-4c6f-a220-78c85ab95132": {
     "views": [
      {
       "cell_index": 6
      }
     ]
    },
    "5889b919-5b04-4614-b7bc-3c06b94e34ce": {
     "views": [
      {
       "cell_index": 5
      }
     ]
    },
    "58ba154b-0e53-46e8-9147-1f3e200582cd": {
     "views": [
      {
       "cell_index": 5
      }
     ]
    },
    "591d12a2-9a2a-41f8-8928-737e93730c31": {
     "views": [
      {
       "cell_index": 4
      }
     ]
    },
    "596362e5-efa1-4355-9ed5-e275cdb50f67": {
     "views": [
      {
       "cell_index": 4
      }
     ]
    },
    "5a42cc91-17dd-4bc9-b764-69ffca45175a": {
     "views": [
      {
       "cell_index": 4
      }
     ]
    },
    "5a774ce0-b417-4826-862f-a4fefe619e5c": {
     "views": [
      {
       "cell_index": 4
      }
     ]
    },
    "5baa90bd-593e-4584-b066-c8b39cd9c0ad": {
     "views": [
      {
       "cell_index": 3
      }
     ]
    },
    "5daee640-8728-4ce2-a27d-a1d9086fd1b8": {
     "views": [
      {
       "cell_index": 5
      }
     ]
    },
    "5fba7f21-2c3c-4b2c-b9d0-c0b73a007e6e": {
     "views": [
      {
       "cell_index": 5
      }
     ]
    },
    "603277e8-1d46-41c9-a372-e97661825c55": {
     "views": [
      {
       "cell_index": 5
      }
     ]
    },
    "603a11ff-58a2-4be4-8755-0889b30ff4bd": {
     "views": [
      {
       "cell_index": 4
      }
     ]
    },
    "61462f52-9190-4f9d-b659-85b39dd7bf7a": {
     "views": [
      {
       "cell_index": 5
      }
     ]
    },
    "63664221-e5e6-43c1-be68-bf4382047d04": {
     "views": [
      {
       "cell_index": 3
      }
     ]
    },
    "68486afe-4110-41b8-bda3-509373645af9": {
     "views": [
      {
       "cell_index": 6
      }
     ]
    },
    "68e84624-2e61-4d1f-9f40-c1698df08644": {
     "views": [
      {
       "cell_index": 3
      }
     ]
    },
    "695259b4-26d7-4552-9d39-09c6b3435f33": {
     "views": [
      {
       "cell_index": 5
      }
     ]
    },
    "6a1910d4-c192-46a4-9df0-958410b2329d": {
     "views": [
      {
       "cell_index": 4
      }
     ]
    },
    "6bb13658-7f52-4afb-8542-2f01cc3a7832": {
     "views": [
      {
       "cell_index": 5
      }
     ]
    },
    "6e183ce2-2e97-4074-b74e-a7ba2d13fac0": {
     "views": [
      {
       "cell_index": 4
      }
     ]
    },
    "6e6456ea-df79-490d-995f-0a9a6ea4b328": {
     "views": [
      {
       "cell_index": 4
      }
     ]
    },
    "6f2d59af-079a-4c06-8cfb-02ad0d77dcab": {
     "views": [
      {
       "cell_index": 5
      }
     ]
    },
    "6f3f3b9d-2b24-4901-b220-563546f52834": {
     "views": [
      {
       "cell_index": 5
      }
     ]
    },
    "74f850cf-7bfb-4f9a-8c9c-bc1e40849a44": {
     "views": [
      {
       "cell_index": 3
      }
     ]
    },
    "75ca528e-ef29-4cd9-b66d-e92b74451dc0": {
     "views": [
      {
       "cell_index": 4
      }
     ]
    },
    "7657cdc5-9001-4f77-9173-fb927e86efb4": {
     "views": [
      {
       "cell_index": 4
      }
     ]
    },
    "7728d02c-60ae-4426-ad37-3b0c3d6a80c6": {
     "views": [
      {
       "cell_index": 3
      }
     ]
    },
    "77d73b5b-7684-4b1a-8732-8f5528b73fcb": {
     "views": [
      {
       "cell_index": 6
      }
     ]
    },
    "780d795d-63b8-444f-88f8-c4f19e80e553": {
     "views": [
      {
       "cell_index": 5
      }
     ]
    },
    "787f4fd4-f754-4876-835d-ea510890a782": {
     "views": [
      {
       "cell_index": 3
      }
     ]
    },
    "7983e662-550f-4967-9c6b-643702f7bfbb": {
     "views": [
      {
       "cell_index": 6
      }
     ]
    },
    "7a5713be-3a81-4cc1-8bca-ac85bc23cd66": {
     "views": [
      {
       "cell_index": 6
      }
     ]
    },
    "7b52935c-150f-4a46-981a-e96538b9a176": {
     "views": [
      {
       "cell_index": 4
      }
     ]
    },
    "7c2899e7-9387-4e0e-8f22-41ddfc6b2452": {
     "views": [
      {
       "cell_index": 4
      }
     ]
    },
    "7c2c18f7-40d2-4e86-9699-ebc0bd6715c0": {
     "views": [
      {
       "cell_index": 5
      }
     ]
    },
    "7c35ce95-b2ac-4d5a-bf1e-337ff6f30237": {
     "views": [
      {
       "cell_index": 6
      }
     ]
    },
    "7ccf2023-d9ef-4a47-a1fe-90bec3f1e6c8": {
     "views": [
      {
       "cell_index": 5
      }
     ]
    },
    "7dad0236-72b0-42a1-8820-514803d18f9e": {
     "views": [
      {
       "cell_index": 3
      }
     ]
    },
    "7e109ed3-c894-4f66-922d-fdb6cca8fab3": {
     "views": [
      {
       "cell_index": 5
      }
     ]
    },
    "7eaff4e9-92f9-4d9a-ad3d-cedbec22f32c": {
     "views": [
      {
       "cell_index": 5
      }
     ]
    },
    "7eb4fc8a-f44a-4068-8e83-35ce135c8b08": {
     "views": [
      {
       "cell_index": 4
      }
     ]
    },
    "80e3f71a-ad2e-4ab6-b9c8-496f96790eb9": {
     "views": [
      {
       "cell_index": 4
      }
     ]
    },
    "8366b8f5-8574-48e3-aef6-7bdf51a7ae15": {
     "views": [
      {
       "cell_index": 5
      }
     ]
    },
    "859656cf-0dd2-4db5-8b79-3b47a0c1cf89": {
     "views": [
      {
       "cell_index": 4
      }
     ]
    },
    "89f56089-202a-4ff5-af36-6e14881ebab2": {
     "views": [
      {
       "cell_index": 3
      }
     ]
    },
    "8a08cf15-dd29-44ef-8410-c76bc83fc8b9": {
     "views": [
      {
       "cell_index": 5
      }
     ]
    },
    "8ae79277-8e65-468d-ada3-183b255ffc78": {
     "views": [
      {
       "cell_index": 3
      }
     ]
    },
    "8bd3c828-8903-472b-85db-a7765a6a7d37": {
     "views": [
      {
       "cell_index": 4
      }
     ]
    },
    "8c895b52-f0db-46a6-853d-1eb0a58f9cbf": {
     "views": [
      {
       "cell_index": 3
      }
     ]
    },
    "8cb9888e-d1a2-4466-b5f8-a8cb069bf539": {
     "views": [
      {
       "cell_index": 6
      }
     ]
    },
    "8decbd5a-2faa-45de-8ace-55c465299dd1": {
     "views": [
      {
       "cell_index": 3
      }
     ]
    },
    "8df66d81-dc56-4c30-b94d-85054de0e73e": {
     "views": [
      {
       "cell_index": 6
      }
     ]
    },
    "8fcd17c5-4029-484a-923f-1eb61191ee76": {
     "views": [
      {
       "cell_index": 4
      }
     ]
    },
    "92793841-6c3f-4e6d-9196-365e7a625435": {
     "views": [
      {
       "cell_index": 5
      }
     ]
    },
    "93389f4b-390c-4033-81dd-b10d9758b133": {
     "views": [
      {
       "cell_index": 5
      }
     ]
    },
    "9381bb31-e234-48ff-9921-cc1c43ea5475": {
     "views": [
      {
       "cell_index": 5
      }
     ]
    },
    "954329a0-6e01-4244-b4d7-4258e3a54bc0": {
     "views": [
      {
       "cell_index": 3
      }
     ]
    },
    "95625eaf-2eb0-45eb-abdc-088c0bb7cca0": {
     "views": [
      {
       "cell_index": 6
      }
     ]
    },
    "9682d10b-2081-4c3e-96c7-0791480db442": {
     "views": [
      {
       "cell_index": 4
      }
     ]
    },
    "987a47fd-9bb7-4b2e-9858-81a86fb0122e": {
     "views": [
      {
       "cell_index": 6
      }
     ]
    },
    "9a01cd6e-245a-4eca-b907-f47e3ad9141f": {
     "views": [
      {
       "cell_index": 4
      }
     ]
    },
    "9a17e100-712c-4747-9007-cc6b8ab3be90": {
     "views": [
      {
       "cell_index": 5
      }
     ]
    },
    "9bcd2c9e-be67-44ed-8942-523de9de0c6b": {
     "views": [
      {
       "cell_index": 6
      }
     ]
    },
    "9e55daf4-78b8-4706-ba83-3f0a97680c89": {
     "views": [
      {
       "cell_index": 5
      }
     ]
    },
    "9f1d4dc2-7954-45e0-9018-f369636e85f8": {
     "views": [
      {
       "cell_index": 4
      }
     ]
    },
    "9f67e264-29ea-4ff2-8557-b80e1b72f1c8": {
     "views": [
      {
       "cell_index": 6
      }
     ]
    },
    "a0f7bdee-40e4-4289-8f2c-7b585dabd8c2": {
     "views": [
      {
       "cell_index": 6
      }
     ]
    },
    "a1fd5958-a544-406a-bfb5-2f2466eb4b39": {
     "views": [
      {
       "cell_index": 4
      }
     ]
    },
    "a22f54e5-7f3d-4c11-b87b-497a7ced9d13": {
     "views": [
      {
       "cell_index": 4
      }
     ]
    },
    "a2ca5b0c-2008-448d-b00e-698693f230c4": {
     "views": [
      {
       "cell_index": 5
      }
     ]
    },
    "a521a7ec-b3ca-41b3-8bfc-e152a02ed526": {
     "views": [
      {
       "cell_index": 4
      }
     ]
    },
    "a5809731-5ef4-4685-9711-b17fb8c6f3f8": {
     "views": [
      {
       "cell_index": 3
      }
     ]
    },
    "a63920c6-53d4-40ec-8e28-1c83f5371e0d": {
     "views": [
      {
       "cell_index": 5
      }
     ]
    },
    "a791e6ef-b5da-4491-9372-dc69b6296261": {
     "views": [
      {
       "cell_index": 4
      }
     ]
    },
    "a83d7d01-fd9d-4293-819f-4cf24c09e71e": {
     "views": [
      {
       "cell_index": 3
      }
     ]
    },
    "a8cf2715-d202-48e1-bb64-598dd2ad42c3": {
     "views": [
      {
       "cell_index": 5
      }
     ]
    },
    "a9ab43ef-db7d-4727-960b-28e6e51b58cc": {
     "views": [
      {
       "cell_index": 6
      }
     ]
    },
    "ab57871d-977e-445f-9618-53772cce3493": {
     "views": [
      {
       "cell_index": 5
      }
     ]
    },
    "abedce99-05fa-4a87-aeb4-063ab0c8b462": {
     "views": [
      {
       "cell_index": 4
      }
     ]
    },
    "ac277c35-8b45-4a06-b2a7-57565b4e5c19": {
     "views": [
      {
       "cell_index": 3
      }
     ]
    },
    "ac82d175-e283-449a-b62e-509ca118c908": {
     "views": [
      {
       "cell_index": 4
      }
     ]
    },
    "aded5d00-0916-4406-ba15-8b2f93562cf5": {
     "views": [
      {
       "cell_index": 4
      }
     ]
    },
    "ae25645b-10da-4987-90cf-ecb53626f4fd": {
     "views": [
      {
       "cell_index": 4
      }
     ]
    },
    "af2f9eac-b893-4969-bd0d-dfadae728831": {
     "views": [
      {
       "cell_index": 4
      }
     ]
    },
    "b1f5cdf3-b471-47b7-b44f-a7fb669825a4": {
     "views": [
      {
       "cell_index": 4
      }
     ]
    },
    "b2c9c061-e692-42a5-83d7-092b78f749cb": {
     "views": [
      {
       "cell_index": 6
      }
     ]
    },
    "b4f5363b-c8e1-4b92-8499-60455d8fd63b": {
     "views": [
      {
       "cell_index": 6
      }
     ]
    },
    "b7786673-2b2d-4bbd-8097-1a75ac0d3b2f": {
     "views": [
      {
       "cell_index": 4
      }
     ]
    },
    "b7d538bc-74e7-4aba-b990-8b7d77a0ed86": {
     "views": [
      {
       "cell_index": 3
      }
     ]
    },
    "b8d4ea56-d047-464e-9c83-1b696dcd1b58": {
     "views": [
      {
       "cell_index": 5
      }
     ]
    },
    "ba9c07a4-6cee-46bb-90a6-ddf40df2e0c1": {
     "views": [
      {
       "cell_index": 6
      }
     ]
    },
    "bc2eb6a8-8265-4fda-a241-4389935c5e32": {
     "views": [
      {
       "cell_index": 4
      }
     ]
    },
    "becb1f88-e5a7-4f70-b5b7-967f702bb5ce": {
     "views": [
      {
       "cell_index": 4
      }
     ]
    },
    "becb38a7-3391-4e52-87a6-f610600bc54f": {
     "views": [
      {
       "cell_index": 5
      }
     ]
    },
    "c00e1346-d046-4990-82e8-3d6fa6511127": {
     "views": [
      {
       "cell_index": 5
      }
     ]
    },
    "c01c0db0-341e-4410-af32-89a272bd37f8": {
     "views": [
      {
       "cell_index": 5
      }
     ]
    },
    "c0aa0309-7ccb-465d-b0ac-348f1fc1c250": {
     "views": [
      {
       "cell_index": 3
      }
     ]
    },
    "c0e027c3-4696-46ab-a237-5adc0e08f384": {
     "views": [
      {
       "cell_index": 4
      }
     ]
    },
    "c0f66234-c1e2-4578-9b2f-2a15a153efc6": {
     "views": [
      {
       "cell_index": 4
      }
     ]
    },
    "c1af2e5b-c254-4d58-9a57-d654cf46e9ce": {
     "views": [
      {
       "cell_index": 5
      }
     ]
    },
    "c1f40836-0462-465d-bf13-794d4458bc8f": {
     "views": [
      {
       "cell_index": 4
      }
     ]
    },
    "c2a061b8-8a5a-46da-ac56-edc75d221dc8": {
     "views": [
      {
       "cell_index": 5
      }
     ]
    },
    "c2b8b4c5-ae62-4e7e-9a20-de7701163d2e": {
     "views": [
      {
       "cell_index": 3
      }
     ]
    },
    "c6888afd-4307-4c50-b5e9-2a89dda07c0f": {
     "views": [
      {
       "cell_index": 4
      }
     ]
    },
    "cb8a9f69-5f87-46bf-aad4-e59decd0b4ac": {
     "views": [
      {
       "cell_index": 4
      }
     ]
    },
    "cc1e7ac7-cca0-4e87-8fd2-f7632b0a01e9": {
     "views": [
      {
       "cell_index": 5
      }
     ]
    },
    "ccdddb5d-8d8a-4076-9678-21ebb994577a": {
     "views": [
      {
       "cell_index": 4
      }
     ]
    },
    "cd209a4e-9cac-4655-a4d9-a0408606f737": {
     "views": [
      {
       "cell_index": 5
      }
     ]
    },
    "cdbd4056-d6fd-43e3-b276-026e5efa532f": {
     "views": [
      {
       "cell_index": 5
      }
     ]
    },
    "cea1d082-d5c3-4434-aa91-b8653264de89": {
     "views": [
      {
       "cell_index": 3
      }
     ]
    },
    "cf2bbc02-9e1d-4817-8334-d27f3afb17a3": {
     "views": [
      {
       "cell_index": 4
      }
     ]
    },
    "cf2c7897-5cff-4e8f-9ecc-91fad94daa6d": {
     "views": [
      {
       "cell_index": 6
      }
     ]
    },
    "d1fa41be-6dfb-4595-9717-da558f129e22": {
     "views": [
      {
       "cell_index": 4
      }
     ]
    },
    "d3acdc62-0815-4310-b96c-aadcc0bb0cd6": {
     "views": [
      {
       "cell_index": 6
      }
     ]
    },
    "d3f66aa4-e96a-43ea-9d34-32e618af6980": {
     "views": [
      {
       "cell_index": 5
      }
     ]
    },
    "d4034d91-c144-4fa5-b8bf-2096b19b320d": {
     "views": [
      {
       "cell_index": 3
      }
     ]
    },
    "d4888675-5dee-4303-aa65-8c98a0627402": {
     "views": [
      {
       "cell_index": 5
      }
     ]
    },
    "d7dcf77c-3b05-4fa2-8355-14f637b1c500": {
     "views": [
      {
       "cell_index": 6
      }
     ]
    },
    "d80a720a-7c52-476b-b6f2-b12d8174dbc5": {
     "views": [
      {
       "cell_index": 3
      }
     ]
    },
    "d900ed7d-8aa1-4c88-83a0-200edd279349": {
     "views": [
      {
       "cell_index": 3
      }
     ]
    },
    "d93af1c6-9ac2-4aa1-937e-4a3bceaee897": {
     "views": [
      {
       "cell_index": 4
      }
     ]
    },
    "d94e77d6-83f6-47b3-9e91-3cba5abb22e4": {
     "views": [
      {
       "cell_index": 6
      }
     ]
    },
    "db98a437-754e-49c2-be2d-22fe22c60711": {
     "views": [
      {
       "cell_index": 4
      }
     ]
    },
    "dc5cff1f-5f74-4045-b9e7-4003c0ec4249": {
     "views": [
      {
       "cell_index": 5
      }
     ]
    },
    "e033ac84-99fa-4c34-ab85-5ebdb25b34af": {
     "views": [
      {
       "cell_index": 3
      }
     ]
    },
    "e033f40b-3661-4a25-a086-713e1d424a93": {
     "views": [
      {
       "cell_index": 6
      }
     ]
    },
    "e4edcf28-9d22-45ff-82f0-4f4bc2fd7bcf": {
     "views": [
      {
       "cell_index": 3
      }
     ]
    },
    "e5a5a2f0-3807-4a49-925c-4cf83d77a1b1": {
     "views": [
      {
       "cell_index": 3
      }
     ]
    },
    "e5d08f6c-584d-4161-9a06-d1a8a40ab100": {
     "views": [
      {
       "cell_index": 5
      }
     ]
    },
    "e6cee31f-fcdd-41ed-9d3a-868d7739e244": {
     "views": [
      {
       "cell_index": 4
      }
     ]
    },
    "e89de3d0-7862-4a90-8d81-516f514bc632": {
     "views": [
      {
       "cell_index": 5
      }
     ]
    },
    "ea2cf338-ac67-453d-955a-5ca84f8253a9": {
     "views": [
      {
       "cell_index": 3
      }
     ]
    },
    "ea35c1c6-85ca-4874-9099-ac353e8f5e7e": {
     "views": [
      {
       "cell_index": 4
      }
     ]
    },
    "eaa10544-8b5c-4ce3-bd28-f7de1e95d871": {
     "views": [
      {
       "cell_index": 6
      }
     ]
    },
    "ec4daf1c-bdc3-4e16-bd02-82399dd80765": {
     "views": [
      {
       "cell_index": 4
      }
     ]
    },
    "ef5161b9-e1e3-4626-b019-5891b074c6b1": {
     "views": [
      {
       "cell_index": 4
      }
     ]
    },
    "ef6b7934-a0f7-4b15-9ece-392f39fec424": {
     "views": [
      {
       "cell_index": 3
      }
     ]
    },
    "ef6f390a-e72c-4f35-b598-2f56d9cb7160": {
     "views": [
      {
       "cell_index": 6
      }
     ]
    },
    "f200ad22-8d8c-431f-8521-09a64415ae75": {
     "views": [
      {
       "cell_index": 6
      }
     ]
    },
    "f32c15a6-0028-4738-9678-19a4c07159db": {
     "views": [
      {
       "cell_index": 3
      }
     ]
    },
    "f3f0a429-9208-42c4-9d19-df8e0481a8f0": {
     "views": [
      {
       "cell_index": 5
      }
     ]
    },
    "f3f475c4-40db-4d69-9cb1-4b5fc979774f": {
     "views": [
      {
       "cell_index": 4
      }
     ]
    },
    "f793d90d-5e08-40b4-955b-904cf048d634": {
     "views": [
      {
       "cell_index": 4
      }
     ]
    },
    "f9a2293f-9649-4433-ade3-d4ec7c101fa5": {
     "views": [
      {
       "cell_index": 3
      }
     ]
    },
    "faf84877-8398-411b-8687-aa799390d7d8": {
     "views": [
      {
       "cell_index": 5
      }
     ]
    },
    "fddd4201-9003-4cbe-9337-4cbd75496089": {
     "views": [
      {
       "cell_index": 3
      }
     ]
    }
   },
   "version": "1.2.0"
  }
 },
 "nbformat": 4,
 "nbformat_minor": 1
}
